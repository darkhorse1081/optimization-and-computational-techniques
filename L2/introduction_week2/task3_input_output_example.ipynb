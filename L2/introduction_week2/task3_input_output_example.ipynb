{
 "cells": [
  {
   "cell_type": "markdown",
   "metadata": {},
   "source": [
    "# File I/O and directory management\n"
   ]
  },
  {
   "cell_type": "markdown",
   "metadata": {},
   "source": [
    "**ENGSCI233: Computational Techniques and Computer Systems** \n",
    "\n",
    "*Department of Engineering Science, University of Auckland*"
   ]
  },
  {
   "cell_type": "markdown",
   "metadata": {},
   "source": [
    "This notebook contains a few exercises to show how Python is used to explore the file system and extract data from text files.\n",
    "\n",
    "Let's start with directory exploration. The utility below prints the directory tree."
   ]
  },
  {
   "cell_type": "code",
   "execution_count": 1,
   "metadata": {},
   "outputs": [
    {
     "name": "stdout",
     "output_type": "stream",
     "text": [
      "+ /Users/rounakgiri/Documents/program/optimization-and-computational-techniques/L2/introduction_week2\n",
      "    + .DS_Store\n",
      "    + data\n",
      "        + station1\n",
      "            + data.txt\n",
      "        + station2\n",
      "            + data.txt\n",
      "        + station_list.txt\n",
      "    + processed\n",
      "        + station_corrections.txt\n",
      "    + task3_input_output_example.ipynb\n"
     ]
    }
   ],
   "source": [
    "from pathlib import Path\n",
    "\n",
    "def tree(directory=Path.cwd()):\n",
    "    print(f'+ {directory}')\n",
    "    for path in sorted(directory.rglob('*')):\n",
    "        depth = len(path.relative_to(directory).parts)\n",
    "        spacer = '    ' * depth\n",
    "        print(f'{spacer}+ {path.name}')       \n",
    "        \n",
    "tree()"
   ]
  },
  {
   "cell_type": "code",
   "execution_count": 2,
   "metadata": {},
   "outputs": [
    {
     "data": {
      "text/plain": [
       "PosixPath('/Users/rounakgiri/Documents/program/optimization-and-computational-techniques/L2/introduction_week2')"
      ]
     },
     "execution_count": 2,
     "metadata": {},
     "output_type": "execute_result"
    }
   ],
   "source": [
    "Path.cwd()"
   ]
  },
  {
   "cell_type": "code",
   "execution_count": 3,
   "metadata": {},
   "outputs": [
    {
     "name": "stdout",
     "output_type": "stream",
     "text": [
      "+ /Users/rounakgiri/Documents/program/optimization-and-computational-techniques/L2/introduction_week2/data\n",
      "    + station1\n",
      "        + data.txt\n",
      "    + station2\n",
      "        + data.txt\n",
      "    + station_list.txt\n"
     ]
    }
   ],
   "source": [
    "tree(Path.cwd() / 'data')"
   ]
  },
  {
   "cell_type": "code",
   "execution_count": 4,
   "metadata": {},
   "outputs": [
    {
     "data": {
      "text/plain": [
       "PosixPath('/Users/rounakgiri/Documents/program/optimization-and-computational-techniques/L2/introduction_week2/data')"
      ]
     },
     "execution_count": 4,
     "metadata": {},
     "output_type": "execute_result"
    }
   ],
   "source": [
    "Path.cwd() / 'data'"
   ]
  },
  {
   "cell_type": "code",
   "execution_count": 5,
   "metadata": {},
   "outputs": [
    {
     "data": {
      "text/plain": [
       "PosixPath('/Users/rounakgiri/Documents/program/optimization-and-computational-techniques/L2/introduction_week2')"
      ]
     },
     "execution_count": 5,
     "metadata": {},
     "output_type": "execute_result"
    }
   ],
   "source": [
    "Path.cwd()"
   ]
  },
  {
   "cell_type": "code",
   "execution_count": 6,
   "metadata": {},
   "outputs": [
    {
     "data": {
      "text/plain": [
       "PosixPath('/Users/rounakgiri')"
      ]
     },
     "execution_count": 6,
     "metadata": {},
     "output_type": "execute_result"
    }
   ],
   "source": [
    "Path.home()"
   ]
  },
  {
   "cell_type": "markdown",
   "metadata": {},
   "source": [
    "Aside from the three notebook files `*.ipynb`, we can see there are three folders - `.ipynb_checkpoints`, `data` and `processed` - one of which, `data`, contains two subfolders - `station1` and `station2`. There are various text files inside the folders.\n",
    "\n",
    "Ordinarily, you could open each text file from the filesystem and inspect its contents. However, this is far to vanilla for a Python partisan, and so we can also [do it from within a notebook](http://www.reactiongifs.com/r/but-why.gif) using the `%pycat` command."
   ]
  },
  {
   "cell_type": "code",
   "execution_count": 7,
   "metadata": {},
   "outputs": [
    {
     "name": "stdout",
     "output_type": "stream",
     "text": [
      "\u001b[0mname\u001b[0m\u001b[0;34m,\u001b[0m \u001b[0mcorrection\u001b[0m\u001b[0;34m\u001b[0m\n",
      "\u001b[0;34m\u001b[0m\u001b[0mstation1\u001b[0m \u001b[0;34m;\u001b[0m \u001b[0;34m-\u001b[0m\u001b[0;36m10.0\u001b[0m\u001b[0;34m\u001b[0m\n",
      "\u001b[0;34m\u001b[0m\u001b[0mstation2\u001b[0m \u001b[0;34m;\u001b[0m \u001b[0;34m-\u001b[0m\u001b[0;36m15.5\u001b[0m\u001b[0;34m\u001b[0m\u001b[0;34m\u001b[0m\u001b[0m\n"
     ]
    }
   ],
   "source": [
    "# note the use of a '/' to indicate that 'processed' is a directory and that \n",
    "# 'station_corrections.txt' is contained within it\n",
    "%pycat processed/station_corrections.txt"
   ]
  },
  {
   "cell_type": "code",
   "execution_count": 8,
   "metadata": {},
   "outputs": [
    {
     "name": "stdout",
     "output_type": "stream",
     "text": [
      "[[  nan   nan]\n",
      " [-10.  -15.5]]\n"
     ]
    }
   ],
   "source": [
    "import numpy as np\n",
    "output = np.genfromtxt('processed/station_corrections.txt', delimiter = ';', skip_header=1).T\n",
    "print(output)\n"
   ]
  },
  {
   "cell_type": "code",
   "execution_count": null,
   "metadata": {},
   "outputs": [],
   "source": [
    "%pycat data/station_list.txt"
   ]
  },
  {
   "cell_type": "markdown",
   "metadata": {},
   "source": [
    "Let's read the file `station_list.txt` a different way: by opening with a file pointer, and processing the lines, as strings, one by one."
   ]
  },
  {
   "cell_type": "code",
   "execution_count": 9,
   "metadata": {},
   "outputs": [
    {
     "name": "stdout",
     "output_type": "stream",
     "text": [
      "name, lat, lon, elev\n",
      "\n",
      "station1 :  24.3 ,  85.2 , 3086\n",
      "\n"
     ]
    }
   ],
   "source": [
    "fp = open('data/station_list.txt','r')         # opening in read mode, note again the '/'\n",
    "\n",
    "hdr = fp.readline()\n",
    "ln1 = fp.readline()\n",
    "\n",
    "print(hdr)\n",
    "print(ln1)\n",
    "\n",
    "fp.close()"
   ]
  },
  {
   "cell_type": "code",
   "execution_count": 10,
   "metadata": {},
   "outputs": [
    {
     "data": {
      "text/plain": [
       "str"
      ]
     },
     "execution_count": 10,
     "metadata": {},
     "output_type": "execute_result"
    }
   ],
   "source": [
    "type(ln1)"
   ]
  },
  {
   "cell_type": "code",
   "execution_count": 11,
   "metadata": {},
   "outputs": [
    {
     "name": "stdout",
     "output_type": "stream",
     "text": [
      "['station1 ', '  24.3 ,  85.2 , 3086\\n']\n"
     ]
    }
   ],
   "source": [
    "parts = ln1.split(':')\n",
    "print(parts)  # Note the whitespace"
   ]
  },
  {
   "cell_type": "code",
   "execution_count": 12,
   "metadata": {},
   "outputs": [
    {
     "name": "stdout",
     "output_type": "stream",
     "text": [
      "['station1', '24.3 ,  85.2 , 3086']\n"
     ]
    }
   ],
   "source": [
    "ln1_stripped = [d.strip() for d in parts]\n",
    "print(ln1_stripped)"
   ]
  },
  {
   "cell_type": "code",
   "execution_count": 13,
   "metadata": {},
   "outputs": [
    {
     "data": {
      "text/plain": [
       "3195.5"
      ]
     },
     "execution_count": 13,
     "metadata": {},
     "output_type": "execute_result"
    }
   ],
   "source": [
    "sum([float(d.strip()) for d in ln1_stripped[1].split(',')])"
   ]
  },
  {
   "cell_type": "code",
   "execution_count": 14,
   "metadata": {},
   "outputs": [
    {
     "data": {
      "text/plain": [
       "('station1', 3195.5)"
      ]
     },
     "execution_count": 14,
     "metadata": {},
     "output_type": "execute_result"
    }
   ],
   "source": [
    "def process_data_input(ln1):\n",
    "    parts = ln1.split(':')\n",
    "    ln1_stripped = [d.strip() for d in parts]\n",
    "    total = sum([float(d.strip()) for d in ln1_stripped[1].split(',')])\n",
    "    return ln1_stripped[0], total\n",
    "\n",
    "process_data_input(ln1)"
   ]
  },
  {
   "cell_type": "markdown",
   "metadata": {},
   "source": [
    "Now suppose we want to start looking at files in many different directories. We won't know ahead of time how many directories there are, so we'll need code that is smart and flexible."
   ]
  },
  {
   "cell_type": "code",
   "execution_count": 15,
   "metadata": {},
   "outputs": [
    {
     "data": {
      "text/plain": [
       "PosixPath('/Users/rounakgiri/Documents/program/optimization-and-computational-techniques/L2/introduction_week2')"
      ]
     },
     "execution_count": 15,
     "metadata": {},
     "output_type": "execute_result"
    }
   ],
   "source": [
    "path = Path.cwd()\n",
    "path"
   ]
  },
  {
   "cell_type": "code",
   "execution_count": 16,
   "metadata": {},
   "outputs": [
    {
     "data": {
      "text/plain": [
       "<generator object Path.glob at 0x11ad7e020>"
      ]
     },
     "execution_count": 16,
     "metadata": {},
     "output_type": "execute_result"
    }
   ],
   "source": [
    "path.glob('*')"
   ]
  },
  {
   "cell_type": "code",
   "execution_count": 17,
   "metadata": {},
   "outputs": [
    {
     "data": {
      "text/plain": [
       "[PosixPath('/Users/rounakgiri/Documents/program/optimization-and-computational-techniques/L2/introduction_week2/.DS_Store'),\n",
       " PosixPath('/Users/rounakgiri/Documents/program/optimization-and-computational-techniques/L2/introduction_week2/task3_input_output_example.ipynb'),\n",
       " PosixPath('/Users/rounakgiri/Documents/program/optimization-and-computational-techniques/L2/introduction_week2/processed'),\n",
       " PosixPath('/Users/rounakgiri/Documents/program/optimization-and-computational-techniques/L2/introduction_week2/data')]"
      ]
     },
     "execution_count": 17,
     "metadata": {},
     "output_type": "execute_result"
    }
   ],
   "source": [
    "list(path.glob('*'))"
   ]
  },
  {
   "cell_type": "code",
   "execution_count": 18,
   "metadata": {},
   "outputs": [
    {
     "data": {
      "text/plain": [
       "[PosixPath('/Users/rounakgiri/Documents/program/optimization-and-computational-techniques/L2/introduction_week2/data/station1'),\n",
       " PosixPath('/Users/rounakgiri/Documents/program/optimization-and-computational-techniques/L2/introduction_week2/data/station_list.txt'),\n",
       " PosixPath('/Users/rounakgiri/Documents/program/optimization-and-computational-techniques/L2/introduction_week2/data/station2')]"
      ]
     },
     "execution_count": 18,
     "metadata": {},
     "output_type": "execute_result"
    }
   ],
   "source": [
    "output = list(path.glob('data/*'))\n",
    "output"
   ]
  },
  {
   "cell_type": "code",
   "execution_count": 19,
   "metadata": {},
   "outputs": [
    {
     "name": "stdout",
     "output_type": "stream",
     "text": [
      "[PosixPath('/Users/rounakgiri/Documents/program/optimization-and-computational-techniques/L2/introduction_week2/data/station1'), PosixPath('/Users/rounakgiri/Documents/program/optimization-and-computational-techniques/L2/introduction_week2/data/station_list.txt'), PosixPath('/Users/rounakgiri/Documents/program/optimization-and-computational-techniques/L2/introduction_week2/data/station2')]\n"
     ]
    }
   ],
   "source": [
    "# the glob commands lets us find PATHS to files and folders that conform to a particular name pattern\n",
    "from glob import glob\n",
    "\n",
    "# for example, ALL files and folders inside the current directory\n",
    "output = list(path.glob('data/*'))\n",
    "print(output)"
   ]
  },
  {
   "cell_type": "code",
   "execution_count": 20,
   "metadata": {},
   "outputs": [
    {
     "name": "stdout",
     "output_type": "stream",
     "text": [
      "['data/station1', 'data/station_list.txt', 'data/station2']\n"
     ]
    }
   ],
   "source": [
    "# for example, ALL files and folders inside the subdirectory 'data'\n",
    "output = glob('data/*')\n",
    "print(output)"
   ]
  },
  {
   "cell_type": "code",
   "execution_count": null,
   "metadata": {},
   "outputs": [],
   "source": []
  }
 ],
 "metadata": {
  "kernelspec": {
   "display_name": "base",
   "language": "python",
   "name": "python3"
  },
  "language_info": {
   "codemirror_mode": {
    "name": "ipython",
    "version": 3
   },
   "file_extension": ".py",
   "mimetype": "text/x-python",
   "name": "python",
   "nbconvert_exporter": "python",
   "pygments_lexer": "ipython3",
   "version": "3.12.7"
  }
 },
 "nbformat": 4,
 "nbformat_minor": 2
}
