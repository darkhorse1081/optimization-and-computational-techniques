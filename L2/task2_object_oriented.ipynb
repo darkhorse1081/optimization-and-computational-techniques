{
 "cells": [
  {
   "cell_type": "markdown",
   "metadata": {},
   "source": [
    "# Classes, objects, attributes and methods"
   ]
  },
  {
   "cell_type": "markdown",
   "metadata": {},
   "source": [
    "**ENGSCI233: Computational Techniques and Computer Systems** \n",
    "\n",
    "*Department of Engineering Science, University of Auckland*"
   ]
  },
  {
   "cell_type": "markdown",
   "metadata": {},
   "source": [
    "Python is an [**object-oriented**](https://en.wikipedia.org/wiki/Object-oriented_programming) programming language. In ENGGEN131, you became familiar with **procedural, structured programming**, computer code organised into a logical procession of statements, loops, control blocks and functions. In this course, we shall build on that understanding and introduce the idea of **objects, with attributes and methods**.\n",
    "\n",
    "### Read the notebook carefully, complete all tasks, and export the notebook as `.html` file and as `.py` script\n",
    "\n",
    "    File->Download as->HTML (.html)\n",
    "    File->Download as->Python (.py)\n",
    "\n",
    "**Execute the cell below to define a new *Class*.**"
   ]
  },
  {
   "cell_type": "code",
   "execution_count": 35,
   "metadata": {},
   "outputs": [],
   "source": [
    "class Animal(object):          # defining a class is similar to defining a function in that there is precise syntax\n",
    "    ''' An object to represent an arbitrary animal.\n",
    "    '''\n",
    "    def __init__(self):\n",
    "        ''' Define what properties the object should have when it is brought into existence\n",
    "        '''\n",
    "        self.species = 'unknown animal'      # these are called attributes, we have defined 3: species, name and age\n",
    "        self.name = 'unnamed'                # they are like variables, but they *belong* to the object\n",
    "        self.age = 0                         # we can access and change them using the notation OBJECT.ATTRIBUTE"
   ]
  },
  {
   "cell_type": "markdown",
   "metadata": {},
   "source": [
    "Think of the **Class** as a new \"kind\" or a \"type\" of object (along with floats, integers, strings, and arrays). Much like a function, once it is defined, we can begin to use it."
   ]
  },
  {
   "cell_type": "code",
   "execution_count": 36,
   "metadata": {},
   "outputs": [
    {
     "name": "stdout",
     "output_type": "stream",
     "text": [
      "cat unknown animal\n"
     ]
    }
   ],
   "source": [
    "# Create an *instance* of the Animal object. A duplicate, to be modified independently of other instances.\n",
    "animal1 = Animal()\n",
    "animal1.species = 'cat'               # note the use of brackets in creating the object\n",
    "animal2 = Animal()               # now we have two 'instances' of the Animal object\n",
    "\n",
    "print(animal1.species, animal2.species)"
   ]
  },
  {
   "cell_type": "markdown",
   "metadata": {},
   "source": [
    "We can modify their **attributes** in the usual way a variable is modified."
   ]
  },
  {
   "cell_type": "code",
   "execution_count": 37,
   "metadata": {},
   "outputs": [
    {
     "name": "stdout",
     "output_type": "stream",
     "text": [
      "human dog\n",
      "True\n"
     ]
    }
   ],
   "source": [
    "# let's make the first object personal (change for yourself)\n",
    "animal1.species = 'human'\n",
    "animal1.name = 'David Dempsey'\n",
    "animal1.age = 32.5\n",
    "\n",
    "# let's make the second object a beloved pet (change for yourself)\n",
    "animal2.species = 'dog'\n",
    "animal2.name = 'Angus'\n",
    "animal2.age = 12\n",
    "\n",
    "print(animal1.species, animal2.species)               # verifying we have changed the attributes\n",
    "print(animal1.age > animal2.age)                      # verifying attributes are subject to the usual computer arithmetic"
   ]
  },
  {
   "cell_type": "markdown",
   "metadata": {},
   "source": [
    "#### Aside"
   ]
  },
  {
   "cell_type": "markdown",
   "metadata": {},
   "source": [
    "Try **printing** an object directly."
   ]
  },
  {
   "cell_type": "code",
   "execution_count": 38,
   "metadata": {},
   "outputs": [
    {
     "name": "stdout",
     "output_type": "stream",
     "text": [
      "<__main__.Animal object at 0x108319940>\n"
     ]
    }
   ],
   "source": [
    "print(animal2)"
   ]
  },
  {
   "cell_type": "markdown",
   "metadata": {},
   "source": [
    "The standard output is not very **informative**...\n",
    "\n",
    "We can modify this by including a **specialised method** called '__repr__' in the class definition"
   ]
  },
  {
   "cell_type": "code",
   "execution_count": 41,
   "metadata": {},
   "outputs": [
    {
     "name": "stdout",
     "output_type": "stream",
     "text": [
      "'Angus', a dog\n"
     ]
    }
   ],
   "source": [
    "class Animal(object):          \n",
    "    ''' An object to represent an arbitrary animal.\n",
    "    '''\n",
    "    def __init__(self):\n",
    "        ''' Define what properties the object should have when it is brought into existence\n",
    "        '''\n",
    "        self.species = 'unknown animal'      \n",
    "        self.name = 'unnamed'                \n",
    "        self.age = 0                         \n",
    "    def __repr__(self):\n",
    "        ''' What information to print to the screen when the object is printed.\n",
    "        '''\n",
    "        return '\\'{:s}\\', a {:s}'.format(self.name, self.species)\n",
    "    \n",
    "# create and print the new object\n",
    "animal2 = Animal()\n",
    "animal2.species = 'dog'\n",
    "animal2.name = 'Angus'\n",
    "animal2.age = 12\n",
    "animal1 = Animal()\n",
    "animal1.species = 'human'\n",
    "animal1.name = 'David Dempsey'\n",
    "animal1.age = 32.5\n",
    "print(animal2)"
   ]
  },
  {
   "cell_type": "markdown",
   "metadata": {},
   "source": [
    "#### End Aside"
   ]
  },
  {
   "cell_type": "markdown",
   "metadata": {},
   "source": [
    "An object's attributes are **specific** to it. For example, "
   ]
  },
  {
   "cell_type": "code",
   "execution_count": 42,
   "metadata": {},
   "outputs": [
    {
     "name": "stdout",
     "output_type": "stream",
     "text": [
      "David Dempsey\n",
      "human\n",
      "Angus\n",
      "'David Dempsey', a human\n"
     ]
    }
   ],
   "source": [
    "print(animal1.name)\n",
    "print(animal1.species)               # the 'name' *attribute* has been defined for the animal1 object\n",
    "print(animal2.name)                 # the 'name' *attribute* has been defined for the animal2 object\n",
    "print(animal1)                         # 'name' on its own is a *variable* that has yet to be defined"
   ]
  },
  {
   "cell_type": "markdown",
   "metadata": {},
   "source": [
    "We can link objects to each other using their attributes.\n",
    "\n",
    "***Execute the cell below to define a new class called `Node`.***"
   ]
  },
  {
   "cell_type": "code",
   "execution_count": 59,
   "metadata": {},
   "outputs": [],
   "source": [
    "class Node(object):\n",
    "    '''A node for a linked list object\n",
    "    '''\n",
    "    def __init__(self, value, pointer):                  # these attributes are *passed in* like arguments to a function\n",
    "        '''Initialise a new node with VALUE and POINTER\n",
    "        '''\n",
    "        self.value = value\n",
    "        self.pointer = pointer\n",
    "    def __repr__(self):\n",
    "        '''Screen output.\n",
    "        '''\n",
    "        return 'nd:{}'.format(self.value)"
   ]
  },
  {
   "cell_type": "markdown",
   "metadata": {},
   "source": [
    "Now, create some Node objects, link them together, and use the `pointer` attribute to jump between them."
   ]
  },
  {
   "cell_type": "code",
   "execution_count": 71,
   "metadata": {},
   "outputs": [
    {
     "name": "stdout",
     "output_type": "stream",
     "text": [
      "nd:0 nd:1 nd:2 nd:3\n",
      "nd:3\n"
     ]
    }
   ],
   "source": [
    "# create some nodes\n",
    "nd3 = Node(3, None)                 # a node with *value* 3 and no pointer\n",
    "nd2 = Node(2, nd3)                  # a node with *value* 2 and *pointer* to the previous node\n",
    "nd1 = Node(1, nd2)                  # as above\n",
    "nd0 = Node(0, nd1)                  # as above\n",
    "\n",
    "# print the nodes\n",
    "print(nd0, nd1, nd2, nd3)\n",
    "print(nd2.pointer)"
   ]
  },
  {
   "cell_type": "markdown",
   "metadata": {},
   "source": [
    "Now, suppose I want to **obtain the node** that is connected downstream from (pointed at by) `nd1`. From above, we can see this to be the node `nd2`, however, that may change as the computer program executes.\n",
    "\n",
    "Instead, let's use the `pointer` **attribute** - essentially a variable specific to the `Node` class."
   ]
  },
  {
   "cell_type": "code",
   "execution_count": 47,
   "metadata": {},
   "outputs": [
    {
     "name": "stdout",
     "output_type": "stream",
     "text": [
      "node nd:1 is connected to node nd:2\n",
      "node nd:1 is connected to node nd:2\n"
     ]
    }
   ],
   "source": [
    "# get the connected node (naievely, assuming we know which objects are connected to which)\n",
    "print('node', nd1, 'is connected to node', nd2)\n",
    "\n",
    "# get the connected node (assuming no knowedge of the workspace, but an understanding of how nodes connect with each other)\n",
    "print('node', nd1, 'is connected to node', nd1.pointer)"
   ]
  },
  {
   "cell_type": "markdown",
   "metadata": {},
   "source": [
    "Both commands above achieve the same thing, but the second approach requires **less understanding** of which of the workspace.\n",
    "\n",
    "We can **chain** the attributes together."
   ]
  },
  {
   "cell_type": "code",
   "execution_count": 61,
   "metadata": {},
   "outputs": [
    {
     "name": "stdout",
     "output_type": "stream",
     "text": [
      "node nd:1 is the grandmother of node nd:3\n",
      "the value sum of  nd:1 's daughter and granddaughter is 5\n"
     ]
    }
   ],
   "source": [
    "# jump two nodes\n",
    "print('node', nd1, 'is the grandmother of node', nd1.pointer.pointer)\n",
    "\n",
    "# or add two values\n",
    "print('the value sum of ', nd1, '\\'s daughter and granddaughter is', nd1.pointer.value + nd1.pointer.pointer.value)"
   ]
  },
  {
   "cell_type": "markdown",
   "metadata": {},
   "source": [
    "In much the same way that attributes are just variables **specific to an object**, we can define **methods**, which are functions **specific to an object**.\n",
    "\n",
    "Sometimes a method will be defined to perform **internal calculations** using the object attributes. \n",
    "\n",
    "When we **define** a method, it will always expect to **receive `self`** as its first argument. This allows the method to interact with the object to which it is attached (literally, interact with it**`self`**). \n",
    "\n",
    "It is a **nonintuitive concept** and it is okay if this takes a while to make sense.\n",
    "\n",
    "***Execute the cell below to create a `LinkedList` class with a `sum` method.***"
   ]
  },
  {
   "cell_type": "code",
   "execution_count": 55,
   "metadata": {},
   "outputs": [],
   "source": [
    "class LinkedList(object):\n",
    "    '''A class with methods to implement linked list behavior.\n",
    "    '''\n",
    "    def __init__(self, value):\n",
    "        '''Initialise a list with the first value.\n",
    "        '''\n",
    "        self.head = Node(value, None)       # the first node in the list, nothing to point to\n",
    "        self.tail = self.head               # the last value in the list\n",
    "    def __repr__(self):\n",
    "        nd = self.head\n",
    "        reprstr = '[{}'.format(nd.value)\n",
    "        while nd.pointer is not None:\n",
    "            nd = nd.pointer\n",
    "            reprstr += ',{}'.format(nd.value)\n",
    "        return reprstr + ']'\n",
    "    def append(self, value):\n",
    "        '''Insert a new node with VALUE at the end of the list.\n",
    "        '''\n",
    "        self.tail.pointer = Node(value, None)      # create new node and point the tail to it\n",
    "        self.tail = self.tail.pointer               # update the tail\n",
    "    def sum(self):\n",
    "        '''Add all the values in the list.\n",
    "        '''\n",
    "        nd = self.head\n",
    "        sum = nd.value\n",
    "        while nd.pointer is not None:\n",
    "            nd = nd.pointer\n",
    "            sum += nd.value\n",
    "        return sum"
   ]
  },
  {
   "cell_type": "markdown",
   "metadata": {},
   "source": [
    "Create a list and use the `sum` method to add up its values."
   ]
  },
  {
   "cell_type": "code",
   "execution_count": 100,
   "metadata": {},
   "outputs": [
    {
     "name": "stdout",
     "output_type": "stream",
     "text": [
      "[0,1,2]\n",
      "<bound method LinkedList.sum of [0,1,2]>\n",
      "3\n"
     ]
    }
   ],
   "source": [
    "# create the list with some values\n",
    "ll = LinkedList(0)\n",
    "ll.append(1)\n",
    "ll.append(2)\n",
    "\n",
    "print(ll)             # print the list\n",
    "print(ll.sum)                # print *sum*, which is actually the method handle (like a function handle)\n",
    "print(ll.sum())              # print *sum()*, which is the *returned value* when the method is called"
   ]
  },
  {
   "cell_type": "markdown",
   "metadata": {},
   "source": [
    "As you can see, our LinkedList class is getting **fancy**:\n",
    "\n",
    "- There are now several methods.\n",
    "- The `LinkedList` class makes use of other classes, namely `Node`.\n",
    "\n",
    "There really is not much limit to the degree of internal complexity you can construct. Consider one last implementation of the `LinkedList`, which introduces a `compute_stats` method, and calls new methods `sum`, `compute_length`, and `mean`."
   ]
  },
  {
   "cell_type": "code",
   "execution_count": 101,
   "metadata": {},
   "outputs": [],
   "source": [
    "class LinkedList(object):\n",
    "    '''A class with methods to implement linked list behavior.\n",
    "    '''\n",
    "    def __init__(self, value):\n",
    "        '''Initialise a list with the first value.\n",
    "        '''\n",
    "        self.head = Node(value, None)       # the first node in the list, nothing to point to\n",
    "        self.tail = self.head               # the last value in the list\n",
    "    def __repr__(self):\n",
    "        nd = self.head\n",
    "        reprstr = '[{}'.format(nd.value)\n",
    "        while nd.pointer is not None:\n",
    "            nd = nd.pointer\n",
    "            reprstr += ',{}'.format(nd.value)\n",
    "        return reprstr + ']'\n",
    "    def append(self, value):\n",
    "        '''Insert a new node with VALUE at the end of the list.\n",
    "        '''\n",
    "        self.tail.pointer = Node(value, None)      # create new node and point the tail to it\n",
    "        self.tail = self.tail.pointer               # update the tail\n",
    "    def sum(self):\n",
    "        '''Add all the values in the list. This method returns an output.\n",
    "        '''\n",
    "        nd = self.head\n",
    "        sum = nd.value\n",
    "        while nd.pointer is not None:\n",
    "            nd = nd.pointer\n",
    "            sum += nd.value\n",
    "        return sum\n",
    "    def compute_length(self):\n",
    "        '''Compute the length of the list. This method has no output (no return) but modifies attributes.\n",
    "        '''\n",
    "        nd = self.head\n",
    "        length = 1\n",
    "        while nd.pointer is not None:\n",
    "            nd = nd.pointer\n",
    "            length += 1\n",
    "        self.length = length                       # here, we update the length attribute        \n",
    "    def compute_stats(self):\n",
    "        '''Compute the sum and mean of a list. This method returns two outputs.\n",
    "        '''\n",
    "        self.compute_length()                      # first find the length of the list\n",
    "        return self.sum(), self.mean()\n",
    "    def mean(self):\n",
    "        '''Returns the mean of a list. This method returns an output.\n",
    "        '''\n",
    "        return self.sum()/self.length"
   ]
  },
  {
   "cell_type": "markdown",
   "metadata": {},
   "source": [
    "Now, let's create a list, compute its stats, then update the list and recompute."
   ]
  },
  {
   "cell_type": "code",
   "execution_count": 102,
   "metadata": {},
   "outputs": [
    {
     "name": "stdout",
     "output_type": "stream",
     "text": [
      "[0,1,2]\n",
      "(3, 1.0)\n",
      "[0,1,2,3] (6, 1.5)\n"
     ]
    }
   ],
   "source": [
    "# create the list with some values\n",
    "ll = LinkedList(0)\n",
    "ll.append(1)\n",
    "ll.append(2)\n",
    "\n",
    "# print the list and stats\n",
    "print(ll)                    \n",
    "print(ll.compute_stats())\n",
    "\n",
    "# update the list and reprint the stats\n",
    "ll.append(3)\n",
    "print(ll, ll.compute_stats())"
   ]
  },
  {
   "cell_type": "markdown",
   "metadata": {},
   "source": [
    "That's just the very basics of object-oriented programming. However, you should be beginning to feel comfortable with the concepts of:\n",
    "\n",
    "- objects\n",
    "- attributes\n",
    "- methods\n",
    "\n",
    "We will now introduce a more complicated example for you to practice applying these ideas."
   ]
  },
  {
   "cell_type": "markdown",
   "metadata": {},
   "source": [
    "## Task 2.1 Reading and interpreting code"
   ]
  },
  {
   "cell_type": "markdown",
   "metadata": {},
   "source": [
    "Inspect the `Node` class defined below:\n",
    " - *What happens when a `Node` object is initialised?*\n",
    " - *Which attribute is displayed when a `Node` object is printed?*\n",
    " - *What methods are defined for the `Node` object?*\n",
    " - *What attributes does it have?*\n",
    "\n",
    "***Follow the commented instructions below.***"
   ]
  },
  {
   "cell_type": "code",
   "execution_count": 157,
   "metadata": {},
   "outputs": [
    {
     "name": "stdout",
     "output_type": "stream",
     "text": [
      "nd:A\n"
     ]
    }
   ],
   "source": [
    "# we'll need the numpy module\n",
    "import numpy as np\n",
    "\n",
    "class Node(object): \n",
    "    # this first method is called the CONSTRUCTOR - it contains the commands that are executed \n",
    "    # when a new node object is brought into existence\n",
    "    def __init__(self):\n",
    "        ''' Initialise a new node object. Assign default attribute values.\n",
    "        '''\n",
    "        self.name = None\n",
    "        self.value = None\n",
    "        self.pointer = None\n",
    "    \n",
    "    # this method controls what appears on the screen when you PRINT the node object.\n",
    "    def __repr__(self):\n",
    "        return 'nd:{}'.format(self.name)\n",
    "    \n",
    "    # this is also a method, one we have designed for a particular task\n",
    "    def set_random_value(self, min, max):\n",
    "        ''' Assign attribute VALUE as a random number.\n",
    "\n",
    "            VALUE is uniformly distributed between MIN and MAX.\n",
    "        '''\n",
    "        # assign a random value between 0 and 1\n",
    "        self.value = np.random.rand()\n",
    "\n",
    "        # rescale value to a range between min and max\n",
    "        self.value = self.value*(max-min)+min\n",
    "        \n",
    "# now let's create a node, assign some values to its attributes, and print it out\n",
    "ndA = Node()\n",
    "ndA.name = 'A'\n",
    "ndA.value = 1\n",
    "\n",
    "print(ndA)"
   ]
  },
  {
   "cell_type": "markdown",
   "metadata": {},
   "source": [
    "## Task 2.2 Object oriented programming"
   ]
  },
  {
   "cell_type": "markdown",
   "metadata": {},
   "source": [
    "#### TASK 2.2.1 Add some commands to create a second node 'B' with value 2, and print both nodes out."
   ]
  },
  {
   "cell_type": "code",
   "execution_count": 117,
   "metadata": {},
   "outputs": [
    {
     "name": "stdout",
     "output_type": "stream",
     "text": [
      "nd:A\n",
      "nd:B\n"
     ]
    }
   ],
   "source": [
    "ndB = Node()\n",
    "ndB.name = 'B'\n",
    "ndB.value = 2\n",
    "\n",
    "print(ndA)\n",
    "print(ndB)"
   ]
  },
  {
   "cell_type": "markdown",
   "metadata": {},
   "source": [
    "#### Task 2.2.2. Modify the `clase Node` to add a third attribute called `pointer`, assign node A's pointer attribute to node B\n",
    "Uncomment the following lines after your change."
   ]
  },
  {
   "cell_type": "code",
   "execution_count": 118,
   "metadata": {},
   "outputs": [
    {
     "name": "stdout",
     "output_type": "stream",
     "text": [
      "ndA= nd:A\n",
      "ndA.pointer= nd:B\n",
      "ndA.pointer.value= 2\n"
     ]
    }
   ],
   "source": [
    "ndA.pointer = ndB\n",
    "print('ndA=',ndA)\n",
    "print('ndA.pointer=',ndA.pointer)\n",
    "print('ndA.pointer.value=',ndA.pointer.value)"
   ]
  },
  {
   "cell_type": "markdown",
   "metadata": {},
   "source": [
    "#### Task 2.2.3. modify the `__repr__` method to print out the `value` attribute instead of `name`\n",
    "\n",
    "Insert your modified class below and demonstrate the change with an example."
   ]
  },
  {
   "cell_type": "code",
   "execution_count": 134,
   "metadata": {},
   "outputs": [
    {
     "name": "stdout",
     "output_type": "stream",
     "text": [
      "nd:1\n",
      "nd:2\n",
      "ndA= nd:1\n",
      "ndA.pointer= nd:2\n",
      "ndA.pointer.value= 2\n"
     ]
    }
   ],
   "source": [
    "# we'll need the numpy module\n",
    "import numpy as np\n",
    "\n",
    "class Node(object): \n",
    "    # this first method is called the CONSTRUCTOR - it contains the commands that are executed \n",
    "    # when a new node object is brought into existence\n",
    "    def __init__(self):\n",
    "        ''' Initialise a new node object. Assign default attribute values.\n",
    "        '''\n",
    "        self.name = None\n",
    "        self.value = None\n",
    "        self.pointer = None\n",
    "    \n",
    "    # this method controls what appears on the screen when you PRINT the node object.\n",
    "    def __repr__(self):\n",
    "        return 'nd:{}'.format(self.value)\n",
    "    \n",
    "    # this is also a method, one we have designed for a particular task\n",
    "    def set_random_value(self, min, max):\n",
    "        ''' Assign attribute VALUE as a random number.\n",
    "\n",
    "            VALUE is uniformly distributed between MIN and MAX.\n",
    "        '''\n",
    "        # assign a random value between 0 and 1\n",
    "        self.value = np.random.rand()\n",
    "\n",
    "        # rescale value to a range between min and max\n",
    "        self.value = self.value*(max-min)+min\n",
    "\n",
    "        # pointer resets to default\n",
    "    def isolate(self):\n",
    "        \n",
    "        self.pointer = None\n",
    "\n",
    "ndA = Node()\n",
    "ndA.name = 'A'\n",
    "ndA.value = 1\n",
    "\n",
    "ndB = Node()\n",
    "ndB.name = 'B'\n",
    "ndB.value = 2\n",
    "\n",
    "\n",
    "\n",
    "print(ndA) # prints out value\n",
    "print(ndB)\n",
    "\n",
    "ndA.pointer = ndB\n",
    "print('ndA=',ndA)\n",
    "print('ndA.pointer=',ndA.pointer)\n",
    "print('ndA.pointer.value=',ndA.pointer.value)"
   ]
  },
  {
   "cell_type": "markdown",
   "metadata": {},
   "source": [
    "#### Task 2.2.4. Ceate a NEW METHOD called `isolate`, which resets a node's pointer attribute to None\n",
    "\n",
    "Uncomment and run the code below to verify your method is working correctly."
   ]
  },
  {
   "cell_type": "code",
   "execution_count": 131,
   "metadata": {},
   "outputs": [
    {
     "name": "stdout",
     "output_type": "stream",
     "text": [
      "nd:2\n",
      "None\n"
     ]
    }
   ],
   "source": [
    "print(ndA.pointer)\n",
    "ndA.isolate()\n",
    "print(ndA.pointer)"
   ]
  },
  {
   "cell_type": "markdown",
   "metadata": {},
   "source": [
    "## Task 2.3: Let's now define a second class, called an `Arc` and start looking at interactions between it and the `Node` class."
   ]
  },
  {
   "cell_type": "code",
   "execution_count": null,
   "metadata": {},
   "outputs": [
    {
     "name": "stdout",
     "output_type": "stream",
     "text": [
      "(nd:1)-->(nd:2)\n",
      "2\n",
      "1\n",
      "1\n"
     ]
    }
   ],
   "source": [
    "\n",
    "class Arc(object):\n",
    "    def __init__(self):\n",
    "        ''' Initialise a new arc object.\n",
    "        '''\n",
    "        self.weight = None\n",
    "        self.from_node = None\n",
    "        self.to_node = None    \n",
    "        \n",
    "    def __repr__(self):\n",
    "        '''\n",
    "        '''\n",
    "        return '({})-->({})'.format(self.from_node,self.to_node)    \n",
    "    def subtract_node_values(self):\n",
    "        ''' This method subtracts the VALUE attribute of FROM_NODE from that of TO_NODE\n",
    "        '''\n",
    "        # a return command ensures this method has an output\n",
    "        return self.to_node.value - self.from_node.value\n",
    "        \n",
    "    \n",
    "# create an Arc and use it to join the nodes from the previous cell\n",
    "arcAB = Arc()\n",
    "arcAB.weight = 3\n",
    "arcAB.from_node = ndA\n",
    "arcAB.to_node = ndB\n",
    "print(arcAB)\n",
    "\n",
    "# try out the subtract_node_values method\n",
    "value_difference = arcAB.subtract_node_values()\n",
    "print(arcAB.to_node.value)\n",
    "print(arcAB.from_node.value)\n",
    "print(value_difference)\n"
   ]
  },
  {
   "cell_type": "markdown",
   "metadata": {},
   "source": [
    "#### TASK 2.3.1 Create a new node C and link it to node B with a new arc BC (your choice of values and weights)\n"
   ]
  },
  {
   "cell_type": "code",
   "execution_count": null,
   "metadata": {},
   "outputs": [
    {
     "name": "stdout",
     "output_type": "stream",
     "text": [
      "(nd:2)-->(nd:3)\n"
     ]
    }
   ],
   "source": [
    "ndC = Node()\n",
    "ndC.name = 'C'\n",
    "ndC.value = 3\n",
    "\n",
    "arcBC = Arc()\n",
    "arcBC.weight = 5\n",
    "arcBC.from_node = ndB\n",
    "arcBC.to_node = ndC\n",
    "print(arcBC)"
   ]
  },
  {
   "cell_type": "markdown",
   "metadata": {},
   "source": [
    "#### Task 2.3.2 Modify the `subtract_node_values` method so that instead of RETURNING the node value difference, it saves this number to a new attribute called `value_difference`\n",
    "You can change the class definition above. Demonstrate the change with an example in the next cell."
   ]
  },
  {
   "cell_type": "code",
   "execution_count": 150,
   "metadata": {},
   "outputs": [
    {
     "name": "stdout",
     "output_type": "stream",
     "text": [
      "(nd:2)-->(nd:3)\n",
      "3\n",
      "2\n",
      "1\n"
     ]
    }
   ],
   "source": [
    "class Arc(object):\n",
    "    def __init__(self):\n",
    "        ''' Initialise a new arc object.\n",
    "        '''\n",
    "        self.weight = None\n",
    "        self.from_node = None\n",
    "        self.to_node = None\n",
    "        self.value_difference = None    \n",
    "        \n",
    "    def __repr__(self):\n",
    "        '''\n",
    "        '''\n",
    "        return '({})-->({})'.format(self.from_node,self.to_node)    \n",
    "    def subtract_node_values(self):\n",
    "        ''' This method subtracts the VALUE attribute of FROM_NODE from that of TO_NODE\n",
    "        '''\n",
    "        # a return command ensures this method has an output\n",
    "        self.value_difference = self.to_node.value - self.from_node.value\n",
    "\n",
    "ndC = Node()\n",
    "ndC.name = 'C'\n",
    "ndC.value = 3\n",
    "\n",
    "arcBC = Arc()\n",
    "arcBC.weight = 5\n",
    "arcBC.from_node = ndB\n",
    "arcBC.to_node = ndC\n",
    "print(arcBC)\n",
    "\n",
    "print(arcBC.to_node.value)\n",
    "print(arcBC.from_node.value)\n",
    "\n",
    "arcBC.subtract_node_values()\n",
    "print(arcBC.value_difference)"
   ]
  },
  {
   "cell_type": "markdown",
   "metadata": {},
   "source": [
    "#### 2.3.3. Create a NEW METHOD called `reverse`, which reverses the direction of an arc.\n",
    "Change the class definition above. Demonstrate the change with an example in the next cell."
   ]
  },
  {
   "cell_type": "code",
   "execution_count": 153,
   "metadata": {},
   "outputs": [
    {
     "name": "stdout",
     "output_type": "stream",
     "text": [
      "(nd:2)-->(nd:3)\n",
      "(nd:3)-->(nd:2)\n"
     ]
    }
   ],
   "source": [
    "class Arc(object):\n",
    "    def __init__(self):\n",
    "        ''' Initialise a new arc object.\n",
    "        '''\n",
    "        self.weight = None\n",
    "        self.from_node = None\n",
    "        self.to_node = None\n",
    "        self.value_difference = None    \n",
    "        \n",
    "    def __repr__(self):\n",
    "        '''\n",
    "        '''\n",
    "        return '({})-->({})'.format(self.from_node,self.to_node)    \n",
    "    def subtract_node_values(self):\n",
    "        ''' This method subtracts the VALUE attribute of FROM_NODE from that of TO_NODE\n",
    "        '''\n",
    "        # a return command ensures this method has an output\n",
    "        self.value_difference = self.to_node.value - self.from_node.value\n",
    "    def reverse(self):\n",
    "        new1 = self.to_node\n",
    "        new2 = self.from_node\n",
    "\n",
    "        self.to_node = new2\n",
    "        self.from_node = new1\n",
    "\n",
    "ndC = Node()\n",
    "ndC.name = 'C'\n",
    "ndC.value = 3\n",
    "\n",
    "arcBC = Arc()\n",
    "arcBC.weight = 5\n",
    "arcBC.from_node = ndB\n",
    "arcBC.to_node = ndC\n",
    "print(arcBC)\n",
    "\n",
    "arcBC.reverse()\n",
    "print(arcBC)\n"
   ]
  },
  {
   "cell_type": "markdown",
   "metadata": {},
   "source": [
    "#### 2.3.4 Create a NEW METHOD called `swap_values`, which preserves arc direction, but swaps the node values.\n",
    "Change the class definition above. Demonstrate the change with an example in the next cell."
   ]
  },
  {
   "cell_type": "code",
   "execution_count": 161,
   "metadata": {},
   "outputs": [
    {
     "name": "stdout",
     "output_type": "stream",
     "text": [
      "(nd:B)-->(nd:C)\n",
      "2\n",
      "3\n",
      "3\n",
      "2\n"
     ]
    }
   ],
   "source": [
    "class Arc(object):\n",
    "    def __init__(self):\n",
    "        ''' Initialise a new arc object.\n",
    "        '''\n",
    "        self.weight = None\n",
    "        self.from_node = None\n",
    "        self.to_node = None\n",
    "        self.value_difference = None    \n",
    "        \n",
    "    def __repr__(self):\n",
    "        '''\n",
    "        '''\n",
    "        return '({})-->({})'.format(self.from_node,self.to_node)    \n",
    "    def subtract_node_values(self):\n",
    "        ''' This method subtracts the VALUE attribute of FROM_NODE from that of TO_NODE\n",
    "        '''\n",
    "        # a return command ensures this method has an output\n",
    "        self.value_difference = self.to_node.value - self.from_node.value\n",
    "    def reverse(self):\n",
    "        new1 = self.to_node\n",
    "        new2 = self.from_node\n",
    "\n",
    "        self.to_node = new2\n",
    "        self.from_node = new1\n",
    "\n",
    "    def swap_value(self):\n",
    "        val1 = self.to_node.value\n",
    "        val2 = self.from_node.value\n",
    "\n",
    "        self.to_node.value = val2\n",
    "        self.from_node.value = val1\n",
    "\n",
    "ndB = Node()\n",
    "ndB.name = 'B'\n",
    "ndB.value = 2\n",
    "\n",
    "ndC = Node()\n",
    "ndC.name = 'C'\n",
    "ndC.value = 3\n",
    "\n",
    "arcBC = Arc()\n",
    "arcBC.weight = 5\n",
    "arcBC.from_node = ndB\n",
    "arcBC.to_node = ndC\n",
    "print(arcBC)\n",
    "\n",
    "print(ndB.value)\n",
    "print(ndC.value)\n",
    "\n",
    "arcBC.swap_value()\n",
    "print(ndB.value)\n",
    "print(ndC.value)\n",
    "\n",
    "\n"
   ]
  },
  {
   "cell_type": "markdown",
   "metadata": {},
   "source": [
    "## Task 2.4 Refresher on creating and using lists.\n",
    "\n",
    "Lists are useful structures to organise and keep track of objects or variables.\n",
    "\n",
    "The main things we do with lists are:\n",
    "1. Create an empty list.\n",
    "2. Append to a list.\n",
    "3. Access a list item.\n",
    "4. Get the length of a list."
   ]
  },
  {
   "cell_type": "code",
   "execution_count": null,
   "metadata": {},
   "outputs": [],
   "source": [
    "# create an empty list\n",
    "nodes = []\n",
    "print(nodes)\n",
    "\n",
    "# append to a list\n",
    "nodes.append(ndA)\n",
    "print(nodes)\n",
    "nodes.append(ndB)\n",
    "print(nodes)\n",
    "\n",
    "# accessing a list\n",
    "first_node = nodes[0]\n",
    "second_node = nodes[1]\n",
    "last_node = nodes[-1]\n",
    "print(first_node,second_node,last_node)\n",
    "\n",
    "# length of a list (note, 'length' is not a zero-indexed idea)\n",
    "N = len(nodes)\n",
    "print(N)"
   ]
  },
  {
   "cell_type": "markdown",
   "metadata": {},
   "source": [
    "Now, let's define and use a `Network` class to keep track of all the nodes and arcs we have been playing with."
   ]
  },
  {
   "cell_type": "markdown",
   "metadata": {},
   "source": [
    "#### Task 2.4.1 Create a Network class, with `__init__` and `__repr__` methods, and attributes `nodes` and `arcs` which start out as EMPTY LISTS."
   ]
  },
  {
   "cell_type": "code",
   "execution_count": null,
   "metadata": {},
   "outputs": [],
   "source": []
  },
  {
   "cell_type": "markdown",
   "metadata": {},
   "source": [
    "#### Task 2.4.2 Create an `add_node` method, which accepts `name` and `value` as arguments\n",
    "Demonstrate the method with an example."
   ]
  },
  {
   "cell_type": "code",
   "execution_count": null,
   "metadata": {},
   "outputs": [],
   "source": []
  },
  {
   "cell_type": "markdown",
   "metadata": {},
   "source": [
    "#### Task 2.4.3. Create a `count_nodes` method, which RETURNS the number of nodes in the network.\n",
    "Demonstrate the method with an example."
   ]
  },
  {
   "cell_type": "code",
   "execution_count": null,
   "metadata": {},
   "outputs": [],
   "source": []
  },
  {
   "cell_type": "markdown",
   "metadata": {},
   "source": [
    "#### Task 2.4.4 Create a `sum_value` method, which computes the sum of all node `value` attributes and assigns this to a new network attribute `total_value`\n",
    "Uncomment the commands below to test your new network class is working correctly.\n",
    "\n"
   ]
  },
  {
   "cell_type": "code",
   "execution_count": null,
   "metadata": {},
   "outputs": [],
   "source": [
    "#nk = Network()\n",
    "#print(nk)\n",
    "#nk.add_node('A', 1)\n",
    "#nk.add_node('B', 2)\n",
    "#nk.add_node('C', 3)\n",
    "#print(nk.nodes)\n",
    "#N = nk.count_nodes()\n",
    "#print('network has {} nodes'.format(N))\n",
    "#nk.sum_values()\n",
    "#print('total node value is {}'.format(nk.total_value))\n"
   ]
  }
 ],
 "metadata": {
  "kernelspec": {
   "display_name": "base",
   "language": "python",
   "name": "python3"
  },
  "language_info": {
   "codemirror_mode": {
    "name": "ipython",
    "version": 3
   },
   "file_extension": ".py",
   "mimetype": "text/x-python",
   "name": "python",
   "nbconvert_exporter": "python",
   "pygments_lexer": "ipython3",
   "version": "3.12.7"
  }
 },
 "nbformat": 4,
 "nbformat_minor": 2
}
