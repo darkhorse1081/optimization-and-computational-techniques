{
 "cells": [
  {
   "cell_type": "markdown",
   "metadata": {},
   "source": [
    "# Quality control"
   ]
  },
  {
   "cell_type": "markdown",
   "metadata": {},
   "source": [
    "**ENGSCI233: Computational Techniques and Computer Systems** \n",
    "\n",
    "*Department of Engineering Science, University of Auckland*"
   ]
  },
  {
   "cell_type": "code",
   "execution_count": null,
   "metadata": {},
   "outputs": [],
   "source": [
    "# imports and environment: this cell must be executed before any other in the notebook\n",
    "%matplotlib notebook\n",
    "from quality_control233 import*"
   ]
  },
  {
   "cell_type": "markdown",
   "metadata": {},
   "source": [
    "It is not realistic to write code that is completely free from **bugs**. However, we should strive to eliminate as many as possible from our work. Although this is not a software design course, there are a number of good practices that we can borrow from that field. With practice, you will develop a set of useful habits - **unit testing, version control, and writing specifications** - that will help to minimise bugs, and make it easy for other people (and your future self) to understand, use and modify your code. \n",
    "\n",
    "Content in this module has been drawn from this Open MIT course:\n",
    "\n",
    "https://ocw.mit.edu/courses/electrical-engineering-and-computer-science/6-005-software-construction-spring-2016/readings/"
   ]
  },
  {
   "cell_type": "markdown",
   "metadata": {
    "heading_collapsed": true
   },
   "source": [
    "## 1 Unit testing\n",
    "\n",
    "<mark>***Checking our code is bug-free.***</mark>"
   ]
  },
  {
   "cell_type": "markdown",
   "metadata": {
    "hidden": true
   },
   "source": [
    "Large software projects might comprise thousands of lines of code. These must be written sufficiently well that the \"whole program\" achieves its objective. Code will generally be organised in a modular fashion, as a collection of functions and subroutines. Many of these will perform a small, specific task. These in turn will be called by other functions, achieving perhaps some task of intermediate complexity, and so on and so forth.\n",
    "\n",
    "A bug or error in an elementary function can propagate its effects to other parts of the code, compromising the software. **Unit testing** is the practice of checking for and catching these errors. We do this by actively **trying** to make the code fail. You should put aside any feelings of pride and accomplishment in your work. \n",
    "\n",
    "Let's look at an example:"
   ]
  },
  {
   "cell_type": "markdown",
   "metadata": {
    "hidden": true
   },
   "source": [
    "Consider the function below that computes the negative square of an input number, i.e., $-x^2$ for input $x$."
   ]
  },
  {
   "cell_type": "code",
   "execution_count": null,
   "metadata": {
    "hidden": true
   },
   "outputs": [],
   "source": [
    "# run this cell to make the function available\n",
    "def neg_square(x):\n",
    "    return (-x)*(-x)"
   ]
  },
  {
   "cell_type": "markdown",
   "metadata": {
    "hidden": true
   },
   "source": [
    "You should immediately see that `neg_square` has been improperly implemented. However, **it will still return a result**, i.e., no error is raised. This means that, if we're not paying attention, this bug has the potential to cause mischief elsewhere in our code.  "
   ]
  },
  {
   "cell_type": "markdown",
   "metadata": {
    "hidden": true
   },
   "source": [
    "A **unit test** is another function that we write whose express purpose is to test that one of our functions is **working correctly**. But what does it mean to be \"working correctly\"?\n",
    "\n",
    "- The function should return the correct result.\n",
    "- The function should return the correct result **for every possible value** $x$.\n",
    "- The function should return the correct result **for every possible value** $x$, and **anticipate the stupidity** of the user, e.g., `neg_square('an apple')`.\n",
    "\n",
    "The right test depends on how rigourous you need to be, and the tolerance and implications of failure by your software. Let's take a look at one example. "
   ]
  },
  {
   "cell_type": "code",
   "execution_count": null,
   "metadata": {
    "hidden": true
   },
   "outputs": [],
   "source": [
    "# make sure to run the cell above defining `neg_square` before running this cell\n",
    "def test_neg_square():\n",
    "    assert neg_square(2) == -4\n",
    "    \n",
    "test_neg_square()"
   ]
  },
  {
   "cell_type": "markdown",
   "metadata": {
    "hidden": true
   },
   "source": [
    "The test above raises an `AssertionError` on the line with the `assert` command. Indeed, this is the express purpose of `assert` - to raise an error in the program when a condition evaluates to `False`. So the unit test is doing its job, signalling loud and clear that there is a bug in your code. \n",
    "\n",
    "***Fix the implementation of ***`neg_square`*** above so that the it passes the unit test.***"
   ]
  },
  {
   "cell_type": "markdown",
   "metadata": {
    "hidden": true
   },
   "source": [
    "### 1.1 Subdomains and edge cases"
   ]
  },
  {
   "cell_type": "markdown",
   "metadata": {
    "hidden": true
   },
   "source": [
    "You should now have a unit test verifying that `neg_square` works for the specific case of $x=2$. Common sense would tell us it should also work for $x=3$ or $x=1003$, but these are basically the same inputs: **positive integers larger than 1**. And it is not really practical to run a test for all integers larger than 1 - there are a lot of them.\n",
    "\n",
    "How about other input types? Negative integers? Floats? The special case of zero? An integer so large that squaring it will cause overflow? Strange and sometimes unexpected things can happen when you pass extreme or idiosyncratic values into your functions. \n",
    "\n",
    "When designing a unit test, you'll usually want to try an input from each of the different sub-domains - all positive integers, all negative integers - and edges between sub-domains - zero, negative infinity.\n",
    "\n",
    "***Copy-paste the unit test above and add `assert` statements to check proper behaviour for positive and negative integers and floats, zero and infinities.*** "
   ]
  },
  {
   "cell_type": "code",
   "execution_count": null,
   "metadata": {
    "hidden": true
   },
   "outputs": [],
   "source": [
    "# use np.inf to represent \"infinity\"\n",
    "import numpy as np\n",
    "\n",
    "def test_neg_square():\n",
    "    # your code here\n",
    "    pass\n",
    "    \n",
    "test_neg_square()"
   ]
  },
  {
   "cell_type": "markdown",
   "metadata": {
    "hidden": true
   },
   "source": [
    "If your function contains `if/else` branches, then a single unit test may miss a buggy line of code if it is in the wrong branch. **Statement coverage** is the idea that you should write multiple unit tests to invoke code on the different branches, running as may lines of code (statements) as possible. One hundred percent statement coverage may not be practical."
   ]
  },
  {
   "cell_type": "markdown",
   "metadata": {
    "hidden": true
   },
   "source": [
    "### 1.2 Testing suites"
   ]
  },
  {
   "cell_type": "markdown",
   "metadata": {
    "hidden": true
   },
   "source": [
    "Even modestly complex programs can run to thousands of lines codes and tens or hundreds of functions. Writing and running unit tests for all of these can be exhausting **but is good practice**. When you discover bugs in your code, you should immediately write a unit test for it. \n",
    "\n",
    "Another coding philosophy is **test-driven development** or test-first programming: first, write a unit test, then, write a function that passes it. **You won't need to do test-driven development in this course**."
   ]
  },
  {
   "cell_type": "markdown",
   "metadata": {
    "hidden": true
   },
   "source": [
    "Each time you sit down to write some code, you should run all your unit tests - the test suite - before starting (especially if you're working on someone else's code) and again once you have finished (especially if other people are working with yours!) \n",
    "\n",
    "With lots of tests, this can be a painful process. Thankfully, there are several automated testing programs to streamline the process. We will use one in the lab called `py.test`.  "
   ]
  },
  {
   "cell_type": "markdown",
   "metadata": {},
   "source": [
    "## 2 Specifications\n",
    "\n",
    "<mark>***Communicating the purpose of our code.***</mark>"
   ]
  },
  {
   "cell_type": "markdown",
   "metadata": {},
   "source": [
    "**You write a function for someone else to use**<sup>1</sup>. \n",
    "\n",
    "Let's define some terminology and use it to unpack that statement.\n",
    "\n",
    "- The **implementor** (you). The person who **writes** the function.\n",
    "- The **client** (someone else). The person who **uses** the function.\n",
    "- The **contract**. The unspoken division of labour. You (the implementor) are writing the function and someone else (the client) is using it.\n",
    "- The **firewall**. The unspoken division of knowledge. You (the implementor) don't need to know **the context** in which the function is being used. Someone else (the client) doesn't need to know **the algorithmic implementation** of the function. \n",
    "\n",
    "Makes sense? Of course it does. But let's just think through some of the implications anyway...\n",
    "\n",
    "- The implementor can change the inner workings of a function, say, for efficiency, without consulting the client and **without breaking the client's code that uses the function**.\n",
    "- The client doesn't have to be an expert in efficient, robust or obscure algorithms. \n",
    "\n",
    "So far, this is all just philosophy. The **specification** is where we turn it into reality.\n",
    "\n",
    "<sup>1</sup> <sub> Sometimes, the \"someone else\" is ourselves. But, because this person is in the future, we shall consider them a separate individual. If this is confusing, I recommend watching the movie Looper (2012).</sub>"
   ]
  },
  {
   "cell_type": "markdown",
   "metadata": {},
   "source": [
    "### 2.1 Writing a specification"
   ]
  },
  {
   "cell_type": "markdown",
   "metadata": {},
   "source": [
    "The specification provides both the implementor and the client with an unambiguous, agreed upon description of the function. It should state:\n",
    "\n",
    "- Inputs/arguments/parameters to the functions.\n",
    "- Any preconditions on these inputs, e.g., input `a` must be a `True/False` boolean; input list `xs` must be sorted.\n",
    "- Outputs/returns of the function.\n",
    "- Any postconditions on the outputs, e.g., output `ix` is the **first** appearance of input `x` in input list `xs`, which potentially contains repetitions.\n",
    "\n",
    "In Python, we shall present the specification as a docstring, a concise commented description immediately below the function header. Let's look at an example:"
   ]
  },
  {
   "cell_type": "code",
   "execution_count": null,
   "metadata": {},
   "outputs": [],
   "source": [
    "''' Find the position of a number in an array.\n",
    "    \n",
    "    Parameters:\n",
    "    -----------\n",
    "    x : float\n",
    "        item to locate\n",
    "    xs : array-like\n",
    "        a list of values\n",
    "    first : boolean (optional)\n",
    "        if True, returns the index of the first appearance of x (default False)\n",
    "    last : boolean (optional)\n",
    "        if True, returns the index of the last appearance of x (default False)\n",
    "    \n",
    "    Returns:\n",
    "    --------\n",
    "    ix : array-like\n",
    "        index location of x in xs\n",
    "    \n",
    "    Notes:\n",
    "    ------\n",
    "    xs should be sorted from smallest to largest\n",
    "'''"
   ]
  },
  {
   "cell_type": "markdown",
   "metadata": {},
   "source": [
    "***- - - - CLASS CODING EXERCISE - - - -***"
   ]
  },
  {
   "cell_type": "code",
   "execution_count": null,
   "metadata": {},
   "outputs": [],
   "source": [
    "# PART ONE\n",
    "# --------\n",
    "# What are the inputs for this specification?\n",
    "\n",
    "# What are the outputs for this specification?\n"
   ]
  },
  {
   "cell_type": "code",
   "execution_count": null,
   "metadata": {},
   "outputs": [],
   "source": [
    "# PART TWO\n",
    "# --------\n",
    "# What are the preconditions for this specification?\n",
    "\n",
    "# What are the postconditions for this specification?\n"
   ]
  },
  {
   "cell_type": "code",
   "execution_count": null,
   "metadata": {},
   "outputs": [],
   "source": [
    "# OPTIONAL CHALLENGE\n",
    "# ------------------\n",
    "# Can you think of any other preconditions that should be given?\n",
    "\n",
    "# Often, there will be a heading \"Raises:\", which describes what should happen when an error occurs.\n",
    "# Suggest an error that could occur for an implementation of this specification. \n"
   ]
  },
  {
   "cell_type": "markdown",
   "metadata": {},
   "source": [
    "An essential feature of the specification above is that it provides sufficient information to BOTH the implementor and the client to do their job. If I asked you **to implement** this specification, you could. If I gave you the name of a function that corresponded to this specification, you could **make use of it**. \n",
    "\n",
    "In addition, the specification provides **all the information you need** to write a unit-test. Details of the how the implementation works are not required.\n",
    "\n",
    "Finally, the specification is **language-agnostic** (notwithstanding, I have written it as the classic Python docstring). In practice, you should be able write a function in Python, MATLAB, C, etc., that conforms to the specification above.\n",
    "\n",
    "***Complete doc-strings for the functions below.***"
   ]
  },
  {
   "cell_type": "code",
   "execution_count": null,
   "metadata": {},
   "outputs": [],
   "source": [
    "def neg_square2(x):\n",
    "    ''' **your docstring here**\n",
    "    '''\n",
    "    return -x**2\n",
    "\n",
    "def find_absolute_min(x, first=False, last = False):\n",
    "    ''' **your docstring here**\n",
    "    '''\n",
    "    \n",
    "    assert len(x)>0\n",
    "    assert not (first and last)\n",
    "    \n",
    "    ax = abs(x)\n",
    "    \n",
    "    axmin = np.min(ax)\n",
    "    \n",
    "    ixmin = np.where(ax == axmin)[0]\n",
    "    \n",
    "    if first:\n",
    "        ixmin = ixmin[0]\n",
    "    if last:\n",
    "        ixmin = ixmin[-1]\n",
    "        \n",
    "    return ixmin\n",
    "    "
   ]
  },
  {
   "cell_type": "markdown",
   "metadata": {},
   "source": [
    "### 2.2 Errors and asserts"
   ]
  },
  {
   "cell_type": "markdown",
   "metadata": {},
   "source": [
    "Specifications as we have described them leave little room for **incompetence**. For instance, the implementor **assumes** that the client will satisfy the appropriate preconditions. Equally, the client **assumes**<sup>2</sup> that the implementor has created a bug-free function. At least for the latter, the implementor could point to a **unit-test** as providing some guarantee of quality.\n",
    "\n",
    "But how should the implementor **guard against** incompetence on the part of the client? Here are two ways:\n",
    "\n",
    "- Explicitly check that preconditions are satisfied within the implementation. We do this using **assert** statements.\n",
    "- Monitor for anomalous or unexpected outcomes and `raise` an **error**. \n",
    "\n",
    "<sup>2</sup><sub>When you *assume* you make an \"ass\" out of \"u\" and \"me\", lolol.</sub>"
   ]
  },
  {
   "cell_type": "markdown",
   "metadata": {},
   "source": [
    "The cell below calls a function that computes the **hamonic** mean of `xs`:\n",
    "\n",
    "\\begin{equation}\n",
    "\\tilde{x} = \\left(\\sum\\limits_i\\frac{1}{x_i}\\right)^{-1}\n",
    "\\end{equation}\n",
    "\n",
    "It is not defined for any **zero values** of `xs`"
   ]
  },
  {
   "cell_type": "code",
   "execution_count": null,
   "metadata": {},
   "outputs": [],
   "source": [
    "# harmonic mean calculation\n",
    "xs = [1, 2, 3]\n",
    "xharm = harmonic_mean(xs)\n",
    "print(xharm)"
   ]
  },
  {
   "cell_type": "code",
   "execution_count": null,
   "metadata": {},
   "outputs": [],
   "source": [
    "# Run the cell above with xs = [1, 2, 3]. What happens?\n",
    "\n",
    "# Try inserting a 0 value into xs and rerunning the cell. What happens?\n",
    "\n",
    "# Try calling harmonic_mean with an empty list (xs = []). What happens?\n",
    "\n",
    "# Try calling harmonic_mean with a non-numeric value (xs = [1, 'an apple', 2]). What happens?\n",
    "\n",
    "# Which of these are 'checked' preconditions, and which are not?"
   ]
  },
  {
   "cell_type": "markdown",
   "metadata": {},
   "source": [
    "While it is sometimes a kindness on the part of the implementor to check preconditions, it may **not always be practical**. For example, the computational expense required to check the precondition *'input array `xs` must be sorted smallest to largest'* may be large compared to *'find the index position of the value `x`'*. Indeed, often the purpose of a precondition is to **save** the implementor some computational expense by guaranteeing desirable qualities of the inputs."
   ]
  },
  {
   "cell_type": "markdown",
   "metadata": {},
   "source": [
    "The cell below calls a function that computes the **geometric** mean of `xs`:\n",
    "\n",
    "\\begin{equation}\n",
    "\\hat{x} = \\sqrt[^n]{\\prod\\limits_{i=1}^n x_i}\n",
    "\\end{equation}\n",
    "\n",
    "It is not defined if `xs` contains BOTH $0$ and $\\infty$ ([what is zero times infinity?](https://img.huffingtonpost.com/asset/5b9282ac190000930a503a0f.jpeg?ops=1910_1000))"
   ]
  },
  {
   "cell_type": "code",
   "execution_count": null,
   "metadata": {},
   "outputs": [],
   "source": [
    "# geometric mean calculation\n",
    "xs = [1, 2, 3]\n",
    "xgeom = geometric_mean(xs)\n",
    "print(xgeom)"
   ]
  },
  {
   "cell_type": "code",
   "execution_count": null,
   "metadata": {},
   "outputs": [],
   "source": [
    "# Run the cell above with xs = [1, 2, 3]. What happens?\n",
    "\n",
    "# Try inserting a 0 value into xs and rerunning the cell. What happens?\n",
    "\n",
    "# Try calling harmonic_mean with an empty list (xs = []). What happens?\n",
    "\n",
    "# Try inserting an np.inf value into xs and rerunning the cell. What happens?\n",
    "\n",
    "# Try inserting a 0 AND an np.inf value into xs and rerunning the cell. What happens?\n",
    "\n",
    "# Which of these are 'checked' preconditions, which are `errors raised` due to anomalous behaviour, \n",
    "# and which are normal outcomes?\n",
    "\n",
    "# OPTIONAL\n",
    "# Check the implementation of geometric_mean - what fancy trick are we using to compute it? Does the client\n",
    "# need to know about these fancy tricks?"
   ]
  },
  {
   "cell_type": "markdown",
   "metadata": {},
   "source": [
    "### 2.3 Raising and catching errors"
   ]
  },
  {
   "cell_type": "markdown",
   "metadata": {},
   "source": [
    "The implementor will sometimes **raise** an error when they want to signal to the client that things are not going well in the code. However, sometimes the client will be prepared to **tolerate and respond** to this misbehaviour. They can do this by **catching** the error with a `try` statement, and redirecting the code to an `except`."
   ]
  },
  {
   "cell_type": "markdown",
   "metadata": {},
   "source": [
    "For instance, we have seen how the inputs below to `geometric_mean` raise a `ValueError`. We can catch this error by wrapping the error generating command (`geometric_mean`) inside a `try` block. If an error is raised, the code in the `except` block will be executed."
   ]
  },
  {
   "cell_type": "code",
   "execution_count": null,
   "metadata": {},
   "outputs": [],
   "source": [
    "xs = [1, 2, 3, 0, np.inf]\n",
    "\n",
    "try:\n",
    "    xgeom = geometric_mean(xs)\n",
    "except:\n",
    "    # default to 0 if mean is not undefined\n",
    "    xgeom = 0.\n",
    "    \n",
    "print(xgeom)"
   ]
  },
  {
   "cell_type": "markdown",
   "metadata": {},
   "source": [
    "Catching and raising errors, using asserts to check for preconditions, and writing clear specifications, are all steps you can take to minimise the emergence and impact of bugs in your code. \n",
    "\n",
    "The final topic we need to cover is how to back-up and chronicle changes to your code: **version control**. "
   ]
  },
  {
   "cell_type": "markdown",
   "metadata": {},
   "source": [
    "## 3 Version control\n",
    "\n",
    "<mark>***Backing up our code.***</mark>"
   ]
  },
  {
   "cell_type": "markdown",
   "metadata": {},
   "source": [
    "Starting a new software project with promises of strict version control is the amateur coder's equivalent to a new year/new gym resolution. Its a good idea. You should do it. You **will** do it. Until one day it's inconvenient and you regress to lazy Leslie from 2018. Nevertheless, let's cover the basics<sup>3</sup>...\n",
    "\n",
    "<sup>3</sup> <sub> For a *better* description of version control than I will give you here, see this [reading](https://ocw.mit.edu/ans7870/6/6.005/s16/classes/05-version-control/).<sub> \n",
    "    \n",
    "Your coding project is just a collection of files. \n",
    "\n",
    "> **If your computer dies tomorrow, wouldn't it be nice to have a backup?**\n",
    "\n",
    "You make your code better by making changes to those files.\n",
    "\n",
    "> **Wouldn't it be nice to have a record of all those changes?**\n",
    "\n",
    "Sometimes you'll make a change that actually makes your code worse.\n",
    "\n",
    "> **Wouldn't it be nice to roll back to a previous (better) version?**\n",
    "\n",
    "Sometimes you need to work at a desktop at university and sometimes you'll want work on your laptop at home.\n",
    "\n",
    "> **Wouldn't it be nice to sync your coding project between two or more machines?**\n",
    "\n",
    "Sometimes you'll work as part of a team developing different parts of the code.\n",
    "\n",
    "> **Wouldn't it be nice if there was a way to push out your changes to others, and pull their changes back?**\n",
    "\n",
    "*The objective of version control is to address these issues.* We will be using a program called [**git**](https://git-scm.com/) to help us do that."
   ]
  },
  {
   "cell_type": "markdown",
   "metadata": {},
   "source": [
    "### 3.1 Repositories"
   ]
  },
  {
   "cell_type": "markdown",
   "metadata": {},
   "source": [
    "At the heart of version control is the concept of the **repository**. This is an archive of the current contents of all the files in your code, safely located in the cloud. \n",
    "\n",
    "<img src=\"img/repo1.png\" alt=\"Drawing\" style=\"width: 900px;\"/>\n",
    "\n",
    "As the **owner**, you can `clone` a copy of the repository to your (say, university) computer. All the files will appear in their folders, and you can run them if you wish.\n",
    "\n",
    "<img src=\"img/repo2.png\" alt=\"Drawing\" style=\"width: 900px;\"/>\n",
    "\n",
    "In this, and following sections, I will be following `git` command line terminology. For example, to clone a repository, you would write at the command line\n",
    "\n",
    "> `git clone *name of repository*`\n",
    "\n",
    "The repository name typically combines the web address of the hosting entity (e.g., [BitBucket](https://bitbucket.org), [GitHub](https://github.com/)), your username, and a project name. Usually this will be obvious when visiting the repository web interface, e.g., to clone this entire course\n",
    "\n",
    "> `git clone https://github.com/ddempsey/computational_techniques.git`"
   ]
  },
  {
   "cell_type": "markdown",
   "metadata": {},
   "source": [
    "### 3.2 Recording your changes"
   ]
  },
  {
   "cell_type": "markdown",
   "metadata": {},
   "source": [
    "Sometimes, you will make a change, say by fixing a bug in one of your functions, thereby making a change to the file `super_func.py`. So that there is a record of this change, you will `add` (nominate new/modified files) and `commit` (record the change).\n",
    "\n",
    "<img src=\"img/repo3.png\" alt=\"Drawing\" style=\"width: 900px;\"/>\n",
    "\n",
    "Here is the command line terminology for `git`\n",
    "\n",
    "> `git add .`\n",
    "\n",
    "> `git commit -m \"added a check for preconditions to super_func\"`\n",
    "\n",
    "Other times, you might make a change by adding a unit test, written in a new file `func_i_test.py`. Once again, you will `add` this file to the repository, and then `commit` so there is a record of the change.\n",
    "\n",
    "<img src=\"img/repo4.png\" alt=\"Drawing\" style=\"width: 900px;\"/>\n",
    "\n",
    "> `git add .`\n",
    "\n",
    "> `git commit -m \"added a unit test for super_func\"`\n",
    "\n",
    "Your commits - records of change - are local to your computer. You rejoin them with the online **repository** using a `push`. \n",
    "\n",
    "<img src=\"img/repo5.png\" alt=\"Drawing\" style=\"width: 900px;\"/>\n",
    "\n",
    "> `git push`\n"
   ]
  },
  {
   "cell_type": "markdown",
   "metadata": {},
   "source": [
    "### 3.3 Working from  multiple locations"
   ]
  },
  {
   "cell_type": "markdown",
   "metadata": {},
   "source": [
    "Now, if you go home and want to work on this code, you can `clone` a copy of the repository.\n",
    "\n",
    "<img src=\"img/repo6.png\" alt=\"Drawing\" style=\"width: 900px;\"/>\n",
    "\n",
    "> `git clone *name of repository*`\n",
    "\n",
    "Make changes to files at home. Then `add`, `commit` and `push` these changes up to the online repository.\n",
    "\n",
    "<img src=\"img/repo7.png\" alt=\"Drawing\" style=\"width: 900px;\"/>\n",
    "\n",
    "> `git add .`\n",
    "\n",
    "> `git commit -m \"fixed a bug in the precondition check\"`\n",
    "\n",
    "> `git push`\n",
    "\n",
    "Next time you are working at the university, use a `pull` to retrieve the changes made at home, **syncing** your local repository with the online one.\n",
    "\n",
    "<img src=\"img/repo8.png\" alt=\"Drawing\" style=\"width: 900px;\"/>\n",
    "\n",
    "> `git pull`"
   ]
  },
  {
   "cell_type": "markdown",
   "metadata": {},
   "source": [
    "### 3.4 Managing conflicts"
   ]
  },
  {
   "cell_type": "markdown",
   "metadata": {},
   "source": [
    "Of course, there is no requirement that the university and home clones are owned by the same person. Suppose that your friend has cloned your repository and you both working on different parts of it **simultaneously**.\n",
    "\n",
    "<img src=\"img/repo9.png\" alt=\"Drawing\" style=\"width: 900px;\"/>\n",
    "\n",
    "Your friend finishes for the night at 8pm<sup>4</sup> and `push`es their changes up to the online repository.\n",
    "\n",
    "<img src=\"img/repo10.png\" alt=\"Drawing\" style=\"width: 900px;\"/>\n",
    "\n",
    "Managing your deadlines and workload carefully, you finish at 1am, `commit` and try to `push` up your changes. Unfortunately, the `push` fails because both you and your friend have modified the same line of code, resulting in a conflict.\n",
    "\n",
    "<img src=\"img/repo11.png\" alt=\"Drawing\" style=\"width: 900px;\"/>\n",
    "\n",
    "To resolve the conflict, you must `fetch` the latest version that includes the modifications from your friend, and then manage the conflict locally using a `merge`.\n",
    "\n",
    "<img src=\"img/repo12.png\" alt=\"Drawing\" style=\"width: 900px;\"/>\n",
    "\n",
    "> `git fetch`\n",
    "\n",
    "> `git merge`\n",
    "\n",
    "Once the conflict is handled, you can `commit` and `push` a new version, that includes both your changes and the managed conflict.\n",
    "\n",
    "<img src=\"img/repo13.png\" alt=\"Drawing\" style=\"width: 900px;\"/>\n",
    "\n",
    "<sup>4</sup><sub>lol, casual</sub>"
   ]
  },
  {
   "cell_type": "markdown",
   "metadata": {},
   "source": [
    "### 3.5 Rolling back to previous versions"
   ]
  },
  {
   "cell_type": "markdown",
   "metadata": {},
   "source": [
    "Often you'll find that some magic-bullet change to your code that was going to make things more efficient just didn't pan out. Things don't even work now and you wish desperately you could roll back to the inefficient, but working, version.\n",
    "\n",
    "In keeping a record of all your changes - snapshots of your code at different moments in history - version control allows this sort of \"saved game\" approach to coding. There are two common options:\n",
    "\n",
    "1. If you want to take a peek at the older version of the code, but later return to the current version, a `checkout` allows you to temporarily roll back.\n",
    "\n",
    "2. If you want to reset permanently to the older version, you want to do a `revert`.\n",
    "\n",
    "For more on rolling back to an old version of your code, check out [this StackOverflow thread](https://stackoverflow.com/questions/4114095/how-to-revert-a-git-repository-to-a-previous-commit). "
   ]
  },
  {
   "cell_type": "code",
   "execution_count": null,
   "metadata": {},
   "outputs": [],
   "source": [
    "# TERMINOLOGY TEST\n",
    "# ----------------\n",
    "# Provide definitions for the following terms as they pertain to version control.\n",
    "#\n",
    "# Repository:\n",
    "# Owner:\n",
    "# Clone:\n",
    "# Push/Pull:\n",
    "# Commit:\n",
    "# Add:\n",
    "# Revert:\n",
    "# Merge:\n",
    "# Git:"
   ]
  },
  {
   "cell_type": "markdown",
   "metadata": {},
   "source": [
    "### 3.6 Final notes on `git`"
   ]
  },
  {
   "cell_type": "markdown",
   "metadata": {},
   "source": [
    "Because it is a command line tool, `git` has extraordinary flexibility in its mode of operation through the use of command line flags. For example, \n",
    "\n",
    "> `git commit -m \"fixed a function\"`\n",
    "\n",
    "associates the message `\"fixed a function\"` to the commit. `-m` is the command line flag that tells `git` \"include a message, make it the text that follows\". Adjusting this command slightly\n",
    "\n",
    "> `git commit -m \"fixed a function\" -q `\n",
    "\n",
    "will do the same as above, but now the `-q` will request `git` to suppress output information about what code has been changed for this commit.\n",
    "\n",
    "It is not possible to fully cover `git` functionality. For most users, it will be sufficient to Google what you want to achieve, and then read the explanation and instructions from the first StackOverflow link. For more help with `git` command line, try typing\n",
    "\n",
    "> `git help`\n",
    "\n",
    "> `git help add`"
   ]
  },
  {
   "cell_type": "markdown",
   "metadata": {},
   "source": [
    "#### 3.6.1 Ignoring files"
   ]
  },
  {
   "cell_type": "markdown",
   "metadata": {},
   "source": [
    "If you're writing and compiling code (even Python compiles itself, creating `*.pyc` files) there will be extra files created that you won't want to track. Placing a `.gitignore` file in your repository tells `git` not to include particular files in the repository.\n",
    "\n",
    "***Run the cell below to display the contents of `.gitignore`***"
   ]
  },
  {
   "cell_type": "code",
   "execution_count": null,
   "metadata": {},
   "outputs": [],
   "source": [
    "%pycat .gitignore"
   ]
  },
  {
   "cell_type": "markdown",
   "metadata": {},
   "source": [
    "##### Unit test for `neg_square`"
   ]
  },
  {
   "cell_type": "code",
   "execution_count": null,
   "metadata": {},
   "outputs": [],
   "source": [
    "def test_neg_square():\n",
    "    assert neg_square(2) == -4\n",
    "    assert neg_square(-2) == -4\n",
    "    assert neg_square(2.5) == -6.25\n",
    "    assert neg_square(-2.5) == -6.25\n",
    "    assert neg_square(0) == 0\n",
    "    assert neg_square(np.inf) == -np.inf"
   ]
  },
  {
   "cell_type": "code",
   "execution_count": null,
   "metadata": {},
   "outputs": [],
   "source": []
  }
 ],
 "metadata": {
  "kernelspec": {
   "display_name": "Python 3",
   "language": "python",
   "name": "python3"
  },
  "language_info": {
   "codemirror_mode": {
    "name": "ipython",
    "version": 3
   },
   "file_extension": ".py",
   "mimetype": "text/x-python",
   "name": "python",
   "nbconvert_exporter": "python",
   "pygments_lexer": "ipython3",
   "version": "3.8.5"
  }
 },
 "nbformat": 4,
 "nbformat_minor": 2
}
